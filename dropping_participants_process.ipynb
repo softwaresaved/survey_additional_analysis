{
 "cells": [
  {
   "cell_type": "markdown",
   "metadata": {},
   "source": [
    "# Introduction"
   ]
  },
  {
   "cell_type": "markdown",
   "metadata": {},
   "source": [
    "This notebook shows the different steps taken to clean the results of the [2017 RSE UK Survey](https://github.com/softwaresaved/international-survey/blob/master/analysis/results_uk_2017_narrative.ipynb). \n",
    "In short, participants were drop if:\n",
    "1. They were not from UK\n",
    "2. They did not answer more than one page of question"
   ]
  },
  {
   "cell_type": "code",
   "execution_count": 1,
   "metadata": {},
   "outputs": [],
   "source": [
    "import pandas as pd\n",
    "import numpy as np\n",
    "import matplotlib.pyplot as plt"
   ]
  },
  {
   "cell_type": "markdown",
   "metadata": {},
   "source": [
    "The total participants were 432. It means that any participants that landed on the page. They are all included in the raw dataset and this is therefore equal to the size of the initial dataset."
   ]
  },
  {
   "cell_type": "code",
   "execution_count": 2,
   "metadata": {},
   "outputs": [
    {
     "name": "stdout",
     "output_type": "stream",
     "text": [
      "There is a total of 432 participants to the survey, prior to any cleaning\n"
     ]
    }
   ],
   "source": [
    "df = pd.read_csv('./data/raw_uk.csv')\n",
    "full_size = len(df)\n",
    "print('There is a total of {} participants to the survey, prior to any cleaning'.format(full_size))"
   ]
  },
  {
   "cell_type": "markdown",
   "metadata": {},
   "source": [
    "However, some participants dropped before the end of the survey. \n",
    "The survey was divided in 7 pages of question plus a welcoming screen (which is labelled '0' in the following table and plot). \n",
    "In the following table, it shows what was the last page a participant reached."
   ]
  },
  {
   "cell_type": "code",
   "execution_count": 3,
   "metadata": {},
   "outputs": [
    {
     "data": {
      "text/html": [
       "<div>\n",
       "<table border=\"1\" class=\"dataframe\">\n",
       "  <thead>\n",
       "    <tr style=\"text-align: right;\">\n",
       "      <th></th>\n",
       "      <th>Count</th>\n",
       "      <th>Percentage</th>\n",
       "    </tr>\n",
       "    <tr>\n",
       "      <th>Last page reached</th>\n",
       "      <th></th>\n",
       "      <th></th>\n",
       "    </tr>\n",
       "  </thead>\n",
       "  <tbody>\n",
       "    <tr>\n",
       "      <th>0</th>\n",
       "      <td>73</td>\n",
       "      <td>17.0</td>\n",
       "    </tr>\n",
       "    <tr>\n",
       "      <th>1</th>\n",
       "      <td>27</td>\n",
       "      <td>6.0</td>\n",
       "    </tr>\n",
       "    <tr>\n",
       "      <th>2</th>\n",
       "      <td>10</td>\n",
       "      <td>2.0</td>\n",
       "    </tr>\n",
       "    <tr>\n",
       "      <th>3</th>\n",
       "      <td>17</td>\n",
       "      <td>4.0</td>\n",
       "    </tr>\n",
       "    <tr>\n",
       "      <th>4</th>\n",
       "      <td>12</td>\n",
       "      <td>3.0</td>\n",
       "    </tr>\n",
       "    <tr>\n",
       "      <th>6</th>\n",
       "      <td>4</td>\n",
       "      <td>1.0</td>\n",
       "    </tr>\n",
       "    <tr>\n",
       "      <th>7</th>\n",
       "      <td>289</td>\n",
       "      <td>67.0</td>\n",
       "    </tr>\n",
       "  </tbody>\n",
       "</table>\n",
       "</div>"
      ],
      "text/plain": [
       "                   Count  Percentage\n",
       "Last page reached                   \n",
       "0                     73        17.0\n",
       "1                     27         6.0\n",
       "2                     10         2.0\n",
       "3                     17         4.0\n",
       "4                     12         3.0\n",
       "6                      4         1.0\n",
       "7                    289        67.0"
      ]
     },
     "execution_count": 3,
     "metadata": {},
     "output_type": "execute_result"
    }
   ],
   "source": [
    "last_page = df[df[\"lastpage. Last page\"] != -1.0][\"lastpage. Last page\"].value_counts(dropna=False).to_frame()\n",
    "last_page.columns = ['Count']\n",
    "last_page.index.name = 'Last page reached'\n",
    "last_page['Percentage'] = round(last_page['Count'] / last_page['Count'].sum() *100)\n",
    "last_page.sort_index(inplace=True)\n",
    "last_page"
   ]
  },
  {
   "cell_type": "code",
   "execution_count": 4,
   "metadata": {},
   "outputs": [
    {
     "data": {
      "image/png": "[encoded data removed]",
      "text/plain": [
       "<matplotlib.figure.Figure at 0x7f479ce16278>"
      ]
     },
     "metadata": {},
     "output_type": "display_data"
    }
   ],
   "source": [
    "# Creating the figure\n",
    "plt.figure(figsize=(20, 9))    \n",
    "ax = plt.subplot(111)  \n",
    "last_page['Count'].plot(kind='bar', color=\"#3F5D7D\", ec='white')\n",
    "# Removing the edge lines\n",
    "ax.spines[\"top\"].set_visible(False)  \n",
    "ax.spines[\"right\"].set_visible(False)  \n",
    "ax.get_xaxis().tick_bottom()  \n",
    "ax.get_yaxis().tick_left() \n",
    "\n",
    "# Setting up the x and y axis\n",
    "plt.xticks(range(0, 8, 1), fontsize=14)  \n",
    "plt.yticks(fontsize=14)  \n",
    "\n",
    "# Labelling the axis\n",
    "plt.xlabel(\"Last page reached\", fontsize=16)  \n",
    "plt.ylabel(\"Count\", fontsize=16)\n",
    "\n",
    "plt.show()"
   ]
  },
  {
   "cell_type": "markdown",
   "metadata": {},
   "source": [
    "We can see that a vast majority of the participants did complete the survey (67%). The drop of participants occurs principally at the welcoming message. Therefore we decided to keep any participant that reach at least the first page of questions."
   ]
  },
  {
   "cell_type": "code",
   "execution_count": 5,
   "metadata": {},
   "outputs": [
    {
     "name": "stdout",
     "output_type": "stream",
     "text": [
      "There is a total of 332 participants that at least reached the first page of questions\n"
     ]
    }
   ],
   "source": [
    "after_first_page = len(df[df[\"lastpage. Last page\"] > 1.0])\n",
    "print('There is a total of {} participants that at least reached the first page of questions'.format(after_first_page))"
   ]
  },
  {
   "cell_type": "markdown",
   "metadata": {},
   "source": [
    "# Country\n",
    "Some participants may have completed the survey even if they were not from United Kingdom. As the study is only for that country, they need to be removed.\n",
    "Here a table showing from which country the participants come from."
   ]
  },
  {
   "cell_type": "code",
   "execution_count": 6,
   "metadata": {},
   "outputs": [
    {
     "data": {
      "text/html": [
       "<div>\n",
       "<table border=\"1\" class=\"dataframe\">\n",
       "  <thead>\n",
       "    <tr style=\"text-align: right;\">\n",
       "      <th></th>\n",
       "      <th>Count</th>\n",
       "      <th>Percentage</th>\n",
       "    </tr>\n",
       "    <tr>\n",
       "      <th>Country</th>\n",
       "      <th></th>\n",
       "      <th></th>\n",
       "    </tr>\n",
       "  </thead>\n",
       "  <tbody>\n",
       "    <tr>\n",
       "      <th>United Kingdom</th>\n",
       "      <td>270</td>\n",
       "      <td>62.0</td>\n",
       "    </tr>\n",
       "    <tr>\n",
       "      <th>NaN</th>\n",
       "      <td>73</td>\n",
       "      <td>17.0</td>\n",
       "    </tr>\n",
       "    <tr>\n",
       "      <th>Germany</th>\n",
       "      <td>29</td>\n",
       "      <td>7.0</td>\n",
       "    </tr>\n",
       "    <tr>\n",
       "      <th>United States</th>\n",
       "      <td>19</td>\n",
       "      <td>4.0</td>\n",
       "    </tr>\n",
       "    <tr>\n",
       "      <th>New Zealand</th>\n",
       "      <td>9</td>\n",
       "      <td>2.0</td>\n",
       "    </tr>\n",
       "    <tr>\n",
       "      <th>France</th>\n",
       "      <td>5</td>\n",
       "      <td>1.0</td>\n",
       "    </tr>\n",
       "    <tr>\n",
       "      <th>Netherlands</th>\n",
       "      <td>3</td>\n",
       "      <td>1.0</td>\n",
       "    </tr>\n",
       "    <tr>\n",
       "      <th>Switzerland</th>\n",
       "      <td>3</td>\n",
       "      <td>1.0</td>\n",
       "    </tr>\n",
       "    <tr>\n",
       "      <th>Ireland</th>\n",
       "      <td>3</td>\n",
       "      <td>1.0</td>\n",
       "    </tr>\n",
       "    <tr>\n",
       "      <th>Australia</th>\n",
       "      <td>3</td>\n",
       "      <td>1.0</td>\n",
       "    </tr>\n",
       "    <tr>\n",
       "      <th>South Africa</th>\n",
       "      <td>2</td>\n",
       "      <td>0.0</td>\n",
       "    </tr>\n",
       "    <tr>\n",
       "      <th>Czech Republic</th>\n",
       "      <td>1</td>\n",
       "      <td>0.0</td>\n",
       "    </tr>\n",
       "    <tr>\n",
       "      <th>Tanzania, United Republic of</th>\n",
       "      <td>1</td>\n",
       "      <td>0.0</td>\n",
       "    </tr>\n",
       "    <tr>\n",
       "      <th>Belgium</th>\n",
       "      <td>1</td>\n",
       "      <td>0.0</td>\n",
       "    </tr>\n",
       "    <tr>\n",
       "      <th>Romania</th>\n",
       "      <td>1</td>\n",
       "      <td>0.0</td>\n",
       "    </tr>\n",
       "    <tr>\n",
       "      <th>Sweden</th>\n",
       "      <td>1</td>\n",
       "      <td>0.0</td>\n",
       "    </tr>\n",
       "    <tr>\n",
       "      <th>Norway</th>\n",
       "      <td>1</td>\n",
       "      <td>0.0</td>\n",
       "    </tr>\n",
       "    <tr>\n",
       "      <th>Italy</th>\n",
       "      <td>1</td>\n",
       "      <td>0.0</td>\n",
       "    </tr>\n",
       "    <tr>\n",
       "      <th>Thailand</th>\n",
       "      <td>1</td>\n",
       "      <td>0.0</td>\n",
       "    </tr>\n",
       "    <tr>\n",
       "      <th>Austria</th>\n",
       "      <td>1</td>\n",
       "      <td>0.0</td>\n",
       "    </tr>\n",
       "    <tr>\n",
       "      <th>Luxembourg</th>\n",
       "      <td>1</td>\n",
       "      <td>0.0</td>\n",
       "    </tr>\n",
       "    <tr>\n",
       "      <th>Spain</th>\n",
       "      <td>1</td>\n",
       "      <td>0.0</td>\n",
       "    </tr>\n",
       "    <tr>\n",
       "      <th>Afghanistan</th>\n",
       "      <td>1</td>\n",
       "      <td>0.0</td>\n",
       "    </tr>\n",
       "    <tr>\n",
       "      <th>Brazil</th>\n",
       "      <td>1</td>\n",
       "      <td>0.0</td>\n",
       "    </tr>\n",
       "  </tbody>\n",
       "</table>\n",
       "</div>"
      ],
      "text/plain": [
       "                              Count  Percentage\n",
       "Country                                        \n",
       "United Kingdom                  270        62.0\n",
       "NaN                              73        17.0\n",
       "Germany                          29         7.0\n",
       "United States                    19         4.0\n",
       "New Zealand                       9         2.0\n",
       "France                            5         1.0\n",
       "Netherlands                       3         1.0\n",
       "Switzerland                       3         1.0\n",
       "Ireland                           3         1.0\n",
       "Australia                         3         1.0\n",
       "South Africa                      2         0.0\n",
       "Czech Republic                    1         0.0\n",
       "Tanzania, United Republic of      1         0.0\n",
       "Belgium                           1         0.0\n",
       "Romania                           1         0.0\n",
       "Sweden                            1         0.0\n",
       "Norway                            1         0.0\n",
       "Italy                             1         0.0\n",
       "Thailand                          1         0.0\n",
       "Austria                           1         0.0\n",
       "Luxembourg                        1         0.0\n",
       "Spain                             1         0.0\n",
       "Afghanistan                       1         0.0\n",
       "Brazil                            1         0.0"
      ]
     },
     "execution_count": 6,
     "metadata": {},
     "output_type": "execute_result"
    }
   ],
   "source": [
    "country = df.iloc[:, 7]\n",
    "count_countries = country.value_counts(dropna=False).to_frame()\n",
    "count_countries.columns = ['Count']\n",
    "count_countries.index.name = 'Country'\n",
    "count_countries['Percentage'] = round(count_countries['Count'] / count_countries['Count'].sum() *100)\n",
    "count_countries"
   ]
  },
  {
   "cell_type": "code",
   "execution_count": 7,
   "metadata": {},
   "outputs": [
    {
     "name": "stdout",
     "output_type": "stream",
     "text": [
      "There is a total of 162 countries that are not United Kingdom\n"
     ]
    }
   ],
   "source": [
    "size_with_uk_only = len(df[(df.iloc[:,7] != 'United Kingdom')])\n",
    "print('There is a total of {} countries that are not United Kingdom'.format(size_with_uk_only))"
   ]
  },
  {
   "cell_type": "code",
   "execution_count": 8,
   "metadata": {},
   "outputs": [
    {
     "name": "stdout",
     "output_type": "stream",
     "text": [
      "The final number of participants, after removing the ones that dropped early and the ones that are not from United Kingdom is 253\n"
     ]
    }
   ],
   "source": [
    "final_size = len(df[(df.iloc[:,7] == 'United Kingdom') & (df[\"lastpage. Last page\"] > 1.0)])\n",
    "print('The final number of participants, after removing the ones that dropped early and the ones that are not from United Kingdom is {}'.format(final_size))"
   ]
  },
  {
   "cell_type": "code",
   "execution_count": 9,
   "metadata": {},
   "outputs": [
    {
     "data": {
      "text/html": [
       "<div>\n",
       "<table border=\"1\" class=\"dataframe\">\n",
       "  <thead>\n",
       "    <tr style=\"text-align: right;\">\n",
       "      <th></th>\n",
       "      <th>Size of different dataset</th>\n",
       "    </tr>\n",
       "  </thead>\n",
       "  <tbody>\n",
       "    <tr>\n",
       "      <th>full size dataset</th>\n",
       "      <td>432</td>\n",
       "    </tr>\n",
       "    <tr>\n",
       "      <th>dataset without leavers</th>\n",
       "      <td>332</td>\n",
       "    </tr>\n",
       "    <tr>\n",
       "      <th>dataset without other countries</th>\n",
       "      <td>162</td>\n",
       "    </tr>\n",
       "    <tr>\n",
       "      <th>final cleaned dataset</th>\n",
       "      <td>253</td>\n",
       "    </tr>\n",
       "  </tbody>\n",
       "</table>\n",
       "</div>"
      ],
      "text/plain": [
       "                                 Size of different dataset\n",
       "full size dataset                                      432\n",
       "dataset without leavers                                332\n",
       "dataset without other countries                        162\n",
       "final cleaned dataset                                  253"
      ]
     },
     "execution_count": 9,
     "metadata": {},
     "output_type": "execute_result"
    }
   ],
   "source": [
    ">>> d = {'col1': [1, 2], 'col2': [3, 4]}\n",
    ">>> df = pd.DataFrame(data=d)\n",
    "#d = {'full size dataset': full_size, 'dataset without leavers': after_first_page, 'dataset without other countries': size_with_uk_only, 'final cleaned dataset': final_size}\n",
    "d = {'Size of different dataset': [full_size, after_first_page, size_with_uk_only, final_size]}\n",
    "comparison_sizes = pd.DataFrame(data=d)\n",
    "comparison_sizes.index = ['full size dataset','dataset without leavers','dataset without other countries', 'final cleaned dataset']\n",
    "comparison_sizes"
   ]
  },
  {
   "cell_type": "code",
   "execution_count": 12,
   "metadata": {},
   "outputs": [
    {
     "data": {
      "image/png": "[encoded data removed]",
      "text/plain": [
       "<matplotlib.figure.Figure at 0x7f479cc0df28>"
      ]
     },
     "metadata": {},
     "output_type": "display_data"
    },
    {
     "data": {
      "image/png": "[encoded data removed]",
      "text/plain": [
       "<matplotlib.figure.Figure at 0x7f479cbe7d30>"
      ]
     },
     "metadata": {},
     "output_type": "display_data"
    }
   ],
   "source": [
    "# Creating the figure \n",
    "#comparison_sizes.plot(kind='bar', color=\"#3F5D7D\", ec='white')\n",
    "\n",
    "\n",
    "\n",
    "# Creating the figure\n",
    "plt.figure(figsize=(20, 9))    \n",
    "ax = plt.subplot(111)  \n",
    "comparison_sizes.plot(kind='bar', color=\"#3F5D7D\", ec='white')\n",
    "# Removing the edge lines\n",
    "ax.spines[\"top\"].set_visible(False)  \n",
    "ax.spines[\"right\"].set_visible(False)  \n",
    "ax.get_xaxis().tick_bottom()  \n",
    "ax.get_yaxis().tick_left() \n",
    "\n",
    "# Setting up the x and y axis\n",
    "plt.xticks(range(0, 8, 1), fontsize=14)  \n",
    "plt.yticks(fontsize=14)  \n",
    "\n",
    "# Labelling the axis\n",
    "plt.xlabel(\"Last page reached\", fontsize=16)  \n",
    "plt.ylabel(\"Count\", fontsize=16)\n",
    "plt.show()"
   ]
  },
  {
   "cell_type": "code",
   "execution_count": 11,
   "metadata": {},
   "outputs": [],
   "source": [
    "# asserting the size of the filtered df and the recorded cleaned df\n",
    "cleaned_df = pd.read_csv('data/cleaned_uk.csv')\n",
    "assert(final_size == len(cleaned_df))"
   ]
  }
 ],
 "metadata": {
  "kernelspec": {
   "display_name": "Python 3",
   "language": "python",
   "name": "python3"
  },
  "language_info": {
   "codemirror_mode": {
    "name": "ipython",
    "version": 3
   },
   "file_extension": ".py",
   "mimetype": "text/x-python",
   "name": "python",
   "nbconvert_exporter": "python",
   "pygments_lexer": "ipython3",
   "version": "3.6.4"
  },
  "toc": {
   "colors": {
    "hover_highlight": "#DAA520",
    "navigate_num": "#000000",
    "navigate_text": "#333333",
    "running_highlight": "#FF0000",
    "selected_highlight": "#FFD700",
    "sidebar_border": "#EEEEEE",
    "wrapper_background": "#FFFFFF"
   },
   "moveMenuLeft": true,
   "nav_menu": {
    "height": "49px",
    "width": "252px"
   },
   "navigate_menu": true,
   "number_sections": true,
   "sideBar": true,
   "threshold": 4,
   "toc_cell": false,
   "toc_section_display": "block",
   "toc_window_display": false,
   "widenNotebook": false
  }
 },
 "nbformat": 4,
 "nbformat_minor": 2
}
