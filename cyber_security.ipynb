{
 "cells": [
  {
   "cell_type": "markdown",
   "metadata": {},
   "source": [
    "# Quick look at the skills\n",
    "A question asked the participants which three skills they think it is important for to acquire or to improve as Research Software Engineers. Specifically the questions were a free text field. In some case we asked three separated questions while in other case the questions directly asked for the three skills directly in one question. \n",
    "\n",
    "1. United-Kingdom:\n",
    "    * What skills would you like to acquire or improve to help your work as a Research Software Engineer? The skills can be technical and non-technical.\n",
    "    * What skills would you like to acquire or improve to help your work as a Research Software Engineer? The skills can be technical and non-technical\n",
    "    * What skills would you like to acquire or improve to help your work as a Research Software Engineer? The skills can be technical and non-technical. \n",
    "  \n",
    "2. United-States of America, Germany and South Africa:\n",
    "    * What three skills would you like to acquire or improve to help your work as a Research Software Engineer? The skills can be technical and non-technical.\n",
    "\n",
    "The following code just try to see if the word security was mentionned in these freetext field. \n"
   ]
  },
  {
   "cell_type": "code",
   "execution_count": 1,
   "metadata": {},
   "outputs": [],
   "source": [
    "import seaborn as sns\n",
    "import matplotlib.pyplot as plt\n",
    "%matplotlib inline\n",
    "\n",
    "import pandas as pd\n",
    "import numpy as np\n",
    "from include.textCleaning import wordcloud\n",
    "from include import sankey\n",
    "\n",
    "from IPython.display import display\n",
    "from IPython.display import HTML\n",
    "import IPython.core.display as di\n",
    "\n",
    "pd.options.display.max_rows=50"
   ]
  },
  {
   "cell_type": "code",
   "execution_count": 2,
   "metadata": {},
   "outputs": [
    {
     "data": {
      "text/html": [
       "<script>jQuery(function() {if (jQuery(\"body.notebook_app\").length == 0) { jQuery(\".input_area\").toggle(); jQuery(\".prompt\").toggle();}});</script>"
      ]
     },
     "metadata": {},
     "output_type": "display_data"
    }
   ],
   "source": [
    "# Option for jupyter notebook\n",
    "pd.set_option('display.max_columns', None)\n",
    "pd.set_option('display.max_rows', None)\n",
    "# This line will hide code by default when the notebook is exported as HTML\n",
    "di.display_html('<script>jQuery(function() {if (jQuery(\"body.notebook_app\").length == 0) { jQuery(\".input_area\").toggle(); jQuery(\".prompt\").toggle();}});</script>', raw=True)"
   ]
  },
  {
   "cell_type": "markdown",
   "metadata": {},
   "source": [
    "# Load datasets"
   ]
  },
  {
   "cell_type": "code",
   "execution_count": 3,
   "metadata": {},
   "outputs": [
    {
     "name": "stdout",
     "output_type": "stream",
     "text": [
      "The total participants in this dataset for uk: 253\n",
      "The total participants in this dataset for us: 164\n",
      "The total participants in this dataset for zaf: 22\n",
      "The total participants in this dataset for de: 325\n"
     ]
    }
   ],
   "source": [
    "# Load the data\n",
    "list_countries = ['uk', 'us', 'zaf', 'de']\n",
    "dict_df = dict()\n",
    "for country in list_countries:\n",
    "    dict_df[country] = pd.read_csv('./data/cleaned_{}.csv'.format(country))\n",
    "\n",
    "# Print the total of participants\n",
    "    print('The total participants in this dataset for {}: {}'.format(country, len(dict_df[country])))"
   ]
  },
  {
   "cell_type": "markdown",
   "metadata": {},
   "source": [
    "## Finding security in the type of skills needed"
   ]
  },
  {
   "cell_type": "code",
   "execution_count": 4,
   "metadata": {},
   "outputs": [],
   "source": [
    "# Getting the columns with the answers about the skills needed to be a RSE\n",
    "col_skills = [\"skill2[SQ001]. What skills would you like to acquire or improve to help your work as a Research Software Engineer? The skills can be technical and non-technical. [Skill 1]\",\n",
    "                \"skill2[SQ2]. What skills would you like to acquire or improve to help your work as a Research Software Engineer? The skills can be technical and non-technical. [Skill 2]\",\n",
    "                \"skill2[SQ3]. What skills would you like to acquire or improve to help your work as a Research Software Engineer? The skills can be technical and non-technical. [Skill 3]\"]\n",
    "alt_skills = ['skill2. What three skills would you like to acquire or improve to help your work as a Research Software Engineer? The skills can be technical and non-technical.']\n",
    "\n",
    "countries = list()\n",
    "for country in dict_df:\n",
    "    df = dict_df[country].fillna('')\n",
    "    try:\n",
    "        # Merge the three column of skills into one column\n",
    "        dict_df[country]['skill'] = df[col_skills].apply(lambda x: ', '.join(x.dropna().astype(str).values), axis=1)\n",
    "        dict_df[country] = dict_df[country][['socio1. In which country do you work?', 'skill']]\n",
    "    except KeyError:\n",
    "            try:\n",
    "                dict_df[country]['skill'] = df[alt_skills]\n",
    "            except KeyError:\n",
    "                print(country)\n",
    "    countries.append(dict_df[country][['socio1. In which country do you work?', 'skill']])\n",
    "\n",
    "df_all = pd.concat(countries)"
   ]
  },
  {
   "cell_type": "code",
   "execution_count": 5,
   "metadata": {},
   "outputs": [],
   "source": [
    "# Some cleaning of the columns\n",
    "def transform_word_into_list(string):\n",
    "    try:\n",
    "        string = string.replace('/', ' ').replace(';', ' ').replace('(', ' ').replace(')', ' ').replace(',', ' ').strip().lower()# for i in string]\n",
    "    except (TypeError, IndexError, AttributeError):\n",
    "        pass\n",
    "    return string\n",
    "\n",
    "df_all['skill'] = df_all['skill'].apply(lambda x: transform_word_into_list(x))"
   ]
  },
  {
   "cell_type": "code",
   "execution_count": 6,
   "metadata": {},
   "outputs": [
    {
     "data": {
      "text/html": [
       "<div>\n",
       "<style scoped>\n",
       "    .dataframe tbody tr th:only-of-type {\n",
       "        vertical-align: middle;\n",
       "    }\n",
       "\n",
       "    .dataframe tbody tr th {\n",
       "        vertical-align: top;\n",
       "    }\n",
       "\n",
       "    .dataframe thead th {\n",
       "        text-align: right;\n",
       "    }\n",
       "</style>\n",
       "<table border=\"1\" class=\"dataframe\">\n",
       "  <thead>\n",
       "    <tr style=\"text-align: right;\">\n",
       "      <th></th>\n",
       "      <th>socio1. In which country do you work?</th>\n",
       "      <th>skill</th>\n",
       "    </tr>\n",
       "  </thead>\n",
       "  <tbody>\n",
       "    <tr>\n",
       "      <th>28</th>\n",
       "      <td>United States</td>\n",
       "      <td>machine learning  scientific programming  secu...</td>\n",
       "    </tr>\n",
       "    <tr>\n",
       "      <th>61</th>\n",
       "      <td>United States</td>\n",
       "      <td>advanced database design  advanced html js css...</td>\n",
       "    </tr>\n",
       "    <tr>\n",
       "      <th>129</th>\n",
       "      <td>United States</td>\n",
       "      <td>hpc training  intensive javascript training  c...</td>\n",
       "    </tr>\n",
       "    <tr>\n",
       "      <th>11</th>\n",
       "      <td>South Africa</td>\n",
       "      <td>managing  security</td>\n",
       "    </tr>\n",
       "    <tr>\n",
       "      <th>11</th>\n",
       "      <td>Germany</td>\n",
       "      <td>networking  studien umfragen gezielt entwerfen...</td>\n",
       "    </tr>\n",
       "    <tr>\n",
       "      <th>33</th>\n",
       "      <td>Germany</td>\n",
       "      <td>security-by-design</td>\n",
       "    </tr>\n",
       "    <tr>\n",
       "      <th>146</th>\n",
       "      <td>Germany</td>\n",
       "      <td>web security</td>\n",
       "    </tr>\n",
       "  </tbody>\n",
       "</table>\n",
       "</div>"
      ],
      "text/plain": [
       "    socio1. In which country do you work?  \\\n",
       "28                          United States   \n",
       "61                          United States   \n",
       "129                         United States   \n",
       "11                           South Africa   \n",
       "11                                Germany   \n",
       "33                                Germany   \n",
       "146                               Germany   \n",
       "\n",
       "                                                 skill  \n",
       "28   machine learning  scientific programming  secu...  \n",
       "61   advanced database design  advanced html js css...  \n",
       "129  hpc training  intensive javascript training  c...  \n",
       "11                                  managing  security  \n",
       "11   networking  studien umfragen gezielt entwerfen...  \n",
       "33                                  security-by-design  \n",
       "146                                       web security  "
      ]
     },
     "execution_count": 6,
     "metadata": {},
     "output_type": "execute_result"
    }
   ],
   "source": [
    "# Output all the row that contain the term security\n",
    "df_all[df_all['skill'].str.contains('security')]"
   ]
  }
 ],
 "metadata": {
  "kernelspec": {
   "display_name": "Python 3",
   "language": "python",
   "name": "python3"
  },
  "language_info": {
   "codemirror_mode": {
    "name": "ipython",
    "version": 3
   },
   "file_extension": ".py",
   "mimetype": "text/x-python",
   "name": "python",
   "nbconvert_exporter": "python",
   "pygments_lexer": "ipython3",
   "version": "3.6.5"
  }
 },
 "nbformat": 4,
 "nbformat_minor": 2
}
